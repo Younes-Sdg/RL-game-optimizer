{
 "cells": [
  {
   "cell_type": "code",
   "execution_count": 7,
   "metadata": {},
   "outputs": [
    {
     "name": "stderr",
     "output_type": "stream",
     "text": [
      "Truncation was not explicitly activated but `max_length` is provided a specific value, please use `truncation=True` to explicitly truncate examples to max length. Defaulting to 'longest_first' truncation strategy. If you encode pairs of sequences (GLUE-style) with the tokenizer you can select this strategy more precisely by providing a specific strategy to `truncation`.\n"
     ]
    },
    {
     "name": "stdout",
     "output_type": "stream",
     "text": [
      "\n",
      "Scenario 1:\n",
      "--------------------------------------------------\n",
      "A wearable device tracks a patient's vital signs and suggests adjustments to medication or activity levels in real-time, based on detected health anomalies.\n",
      "--------------------------------------------------\n",
      "Classification: RL-Unsuitable\n",
      "Confidence: 0.20\n",
      "\n",
      "Inferred Parameters:\n",
      "- sequential_decisions: 1. a wearable device tracks a patient's vital signs and suggests adjustments to medication or activity levels in real-time 2. high/medium/low 3. to make decisions sequentially over time (confidence: 0.50)\n",
      "- state_space: 1. a wearable device tracks a patient's vital signs and suggests adjustments to medication or activity levels in real-time 2. high/medium/low 3. to suggest adjustments to medication or activity levels in real-time 4. a wearable device tracks a patient's vital signs and suggests adjustments to medication or activity levels in real-time 5. a patient's vital signs and suggests adjustments to medication or activity levels in real-time 6. a patient's vital signs and suggests adjustments to medication or activity levels in real-time 7. a patient's vital signs and suggests adjustments to medication or activity levels in real-time 8. high/medium/low 9. a patient's vital signs and suggests adjustments to medication or activity levels in real-time 10. high/medium/low 11. high/medium/low 12. high/medium/low (confidence: 0.50)\n",
      "- action_space: 1. A wearable device tracks a patient's vital signs and suggests adjustments to medication or activity levels in real-time 2. high/medium/low 3. Because it is a device that tracks a patient's vital signs and suggests adjustments to medication or activity levels in real-time 4. a wearable device tracks a patient's vital signs and suggests adjustments to medication or activity levels in real-time 5. a patient's vital signs and suggests adjustments to medication or activity levels in real-time 6. a patient's vital signs and suggests adjustments to medication or activity levels in real-time 7. a patient's vital signs and suggests adjustments to medication or activity levels in real-time 8. a patient's vital signs and suggests adjustments to medication or activity levels in real-time 9. a patient's vital signs and suggests adjustments to medication or activity levels in real-time 10. a patient's vital signs and suggests adjustments to medication (confidence: 0.50)\n",
      "- reward_mechanism: 1. A wearable device tracks a patient's vital signs and suggests adjustments to medication or activity levels in real-time 2. high/medium/low 3. Because it is a reinforcement learning scenario (confidence: 0.50)\n",
      "\n",
      "Suggestions:\n",
      "- Consider clarifying whether decisions need to be made sequentially over time\n",
      "- Consider clarifying what variables describe the situation at each moment\n",
      "- Consider clarifying what actions or choices can be made\n",
      "- Consider clarifying how success or performance is measured\n",
      "- Provide more details about whether decisions need to be made sequentially over time\n",
      "- Provide more details about what variables describe the situation at each moment\n",
      "- Provide more details about what actions or choices can be made\n",
      "- Provide more details about how success or performance is measured\n"
     ]
    }
   ],
   "source": [
    "from scenario_classifier import RLScenarioClassifierLight\n",
    "\n",
    "def test_classifier_on_scenarios():\n",
    "    # Create an instance of the classifier\n",
    "    classifier = RLScenarioClassifierLight()\n",
    "\n",
    "    # Define test scenarios\n",
    "    scenarios = [\n",
    "        \"\"\"\n",
    "       A wearable device tracks a patient's vital signs and suggests adjustments to medication or activity levels in real-time, based on detected health anomalies.\n",
    "\n",
    "\n",
    "        \"\"\"\n",
    "    ]\n",
    "\n",
    "    # Run classification on each scenario\n",
    "    for i, scenario in enumerate(scenarios, 1):\n",
    "        print(f\"\\nScenario {i}:\")\n",
    "        print(\"-\" * 50)\n",
    "        print(scenario.strip())\n",
    "        print(\"-\" * 50)\n",
    "\n",
    "        result = classifier.classify_scenario(scenario)\n",
    "\n",
    "        print(f\"Classification: {result['final_classification']}\")\n",
    "        print(f\"Confidence: {result['confidence']:.2f}\")\n",
    "\n",
    "        if result['llm_analysis']['inferred_parameters']:\n",
    "            print(\"\\nInferred Parameters:\")\n",
    "            for param, value in result['llm_analysis']['inferred_parameters'].items():\n",
    "                confidence = result['llm_analysis']['confidence_scores'][param]\n",
    "                print(f\"- {param}: {value} (confidence: {confidence:.2f})\")\n",
    "\n",
    "        print(\"\\nSuggestions:\")\n",
    "        for suggestion in result['suggestions']:\n",
    "            print(f\"- {suggestion}\")\n",
    "\n",
    "if __name__ == \"__main__\":\n",
    "    test_classifier_on_scenarios()\n"
   ]
  }
 ],
 "metadata": {
  "kernelspec": {
   "display_name": "env",
   "language": "python",
   "name": "python3"
  },
  "language_info": {
   "codemirror_mode": {
    "name": "ipython",
    "version": 3
   },
   "file_extension": ".py",
   "mimetype": "text/x-python",
   "name": "python",
   "nbconvert_exporter": "python",
   "pygments_lexer": "ipython3",
   "version": "3.12.1"
  }
 },
 "nbformat": 4,
 "nbformat_minor": 2
}
